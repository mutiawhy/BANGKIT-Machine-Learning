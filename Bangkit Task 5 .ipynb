{
  "nbformat": 4,
  "nbformat_minor": 0,
  "metadata": {
    "colab": {
      "name": "Bangkit Task 5 - Christina, Mutia, Agi",
      "provenance": [],
      "collapsed_sections": []
    },
    "kernelspec": {
      "name": "python3",
      "display_name": "Python 3"
    },
    "accelerator": "GPU"
  },
  "cells": [
    {
      "cell_type": "markdown",
      "metadata": {
        "id": "mkTm6NIVyIM-",
        "colab_type": "text"
      },
      "source": [
        "# Predicting AirBNB Price\n",
        "\n",
        "This collab notebook is written for Bangkit Task 5. \n",
        "\n",
        "In this book, we utilise Tensorflow to predict AirBNB price based on the public dataset available at : https://www.kaggle.com/stevezhenghp/airbnb-price-prediction\n",
        "\n",
        "Some of the features are cut out of the sample data to reduce data size. The resulting file is uploaded to Google Drive ([airbnb_price.csv](https://drive.google.com/open?id=1S5hFEprXxLUEfsnQ0sczo_smmc3tA49D)) and referred in the code."
      ]
    },
    {
      "cell_type": "code",
      "metadata": {
        "id": "gnJuY4Vdw2X_",
        "colab_type": "code",
        "colab": {}
      },
      "source": [
        "# Importing data pydrive as per example: https://colab.research.google.com/notebooks/io.ipynb#scrollTo=k9q0pp33dckN\n",
        "from pydrive.auth import GoogleAuth\n",
        "from pydrive.drive import GoogleDrive\n",
        "from google.colab import auth\n",
        "from oauth2client.client import GoogleCredentials\n",
        "\n",
        "# Authenticating and getting file instance\n",
        "auth.authenticate_user()\n",
        "gauth = GoogleAuth()\n",
        "gauth.credentials = GoogleCredentials.get_application_default()\n",
        "drive = GoogleDrive(gauth)\n",
        "\n",
        "# Creating file\n",
        "csv_url = \"https://drive.google.com/open?id=1S5hFEprXxLUEfsnQ0sczo_smmc3tA49D\"\n",
        "file_id = csv_url.split('=')[-1]\n",
        "\n",
        "csv_file = drive.CreateFile({'id':file_id}) \n",
        "csv_file.GetContentFile('airbnb_price.csv')  "
      ],
      "execution_count": 0,
      "outputs": []
    },
    {
      "cell_type": "code",
      "metadata": {
        "colab_type": "code",
        "id": "gN2LBmBhCZkm",
        "outputId": "4eb9c964-3ecd-4b98-8851-877d3e2ff992",
        "colab": {
          "base_uri": "https://localhost:8080/",
          "height": 74
        }
      },
      "source": [
        "# Importing relevant libraries\n",
        "import pandas as pd\n",
        "import numpy as np\n",
        "import seaborn as sns\n",
        "import matplotlib.pyplot as plt\n",
        "\n",
        "data = pd.read_csv('airbnb_price.csv')\n",
        "df = pd.DataFrame.from_records(data)"
      ],
      "execution_count": 0,
      "outputs": [
        {
          "output_type": "stream",
          "text": [
            "/usr/local/lib/python3.6/dist-packages/statsmodels/tools/_testing.py:19: FutureWarning: pandas.util.testing is deprecated. Use the functions in the public API at pandas.testing instead.\n",
            "  import pandas.util.testing as tm\n"
          ],
          "name": "stderr"
        }
      ]
    },
    {
      "cell_type": "code",
      "metadata": {
        "id": "yPMvaBW8vWDZ",
        "colab_type": "code",
        "outputId": "43af91a1-af5e-4b54-e9e0-d88e9347fb2f",
        "colab": {
          "base_uri": "https://localhost:8080/",
          "height": 417
        }
      },
      "source": [
        "df.head()"
      ],
      "execution_count": 0,
      "outputs": [
        {
          "output_type": "execute_result",
          "data": {
            "text/html": [
              "<div>\n",
              "<style scoped>\n",
              "    .dataframe tbody tr th:only-of-type {\n",
              "        vertical-align: middle;\n",
              "    }\n",
              "\n",
              "    .dataframe tbody tr th {\n",
              "        vertical-align: top;\n",
              "    }\n",
              "\n",
              "    .dataframe thead th {\n",
              "        text-align: right;\n",
              "    }\n",
              "</style>\n",
              "<table border=\"1\" class=\"dataframe\">\n",
              "  <thead>\n",
              "    <tr style=\"text-align: right;\">\n",
              "      <th></th>\n",
              "      <th>Unnamed: 0</th>\n",
              "      <th>id</th>\n",
              "      <th>log_price</th>\n",
              "      <th>property_type</th>\n",
              "      <th>room_type</th>\n",
              "      <th>amenities</th>\n",
              "      <th>accommodates</th>\n",
              "      <th>bathrooms</th>\n",
              "      <th>bed_type</th>\n",
              "      <th>cancellation_policy</th>\n",
              "      <th>cleaning_fee</th>\n",
              "      <th>city</th>\n",
              "      <th>instant_bookable</th>\n",
              "      <th>bedrooms</th>\n",
              "      <th>beds</th>\n",
              "    </tr>\n",
              "  </thead>\n",
              "  <tbody>\n",
              "    <tr>\n",
              "      <th>0</th>\n",
              "      <td>0</td>\n",
              "      <td>6901257</td>\n",
              "      <td>5.010635</td>\n",
              "      <td>Apartment</td>\n",
              "      <td>Entire home/apt</td>\n",
              "      <td>{\"Wireless Internet\",\"Air conditioning\",Kitche...</td>\n",
              "      <td>3</td>\n",
              "      <td>1.0</td>\n",
              "      <td>Real Bed</td>\n",
              "      <td>strict</td>\n",
              "      <td>True</td>\n",
              "      <td>NYC</td>\n",
              "      <td>f</td>\n",
              "      <td>1.0</td>\n",
              "      <td>1.0</td>\n",
              "    </tr>\n",
              "    <tr>\n",
              "      <th>1</th>\n",
              "      <td>1</td>\n",
              "      <td>6304928</td>\n",
              "      <td>5.129899</td>\n",
              "      <td>Apartment</td>\n",
              "      <td>Entire home/apt</td>\n",
              "      <td>{\"Wireless Internet\",\"Air conditioning\",Kitche...</td>\n",
              "      <td>7</td>\n",
              "      <td>1.0</td>\n",
              "      <td>Real Bed</td>\n",
              "      <td>strict</td>\n",
              "      <td>True</td>\n",
              "      <td>NYC</td>\n",
              "      <td>t</td>\n",
              "      <td>3.0</td>\n",
              "      <td>3.0</td>\n",
              "    </tr>\n",
              "    <tr>\n",
              "      <th>2</th>\n",
              "      <td>2</td>\n",
              "      <td>7919400</td>\n",
              "      <td>4.976734</td>\n",
              "      <td>Apartment</td>\n",
              "      <td>Entire home/apt</td>\n",
              "      <td>{TV,\"Cable TV\",\"Wireless Internet\",\"Air condit...</td>\n",
              "      <td>5</td>\n",
              "      <td>1.0</td>\n",
              "      <td>Real Bed</td>\n",
              "      <td>moderate</td>\n",
              "      <td>True</td>\n",
              "      <td>NYC</td>\n",
              "      <td>t</td>\n",
              "      <td>1.0</td>\n",
              "      <td>3.0</td>\n",
              "    </tr>\n",
              "    <tr>\n",
              "      <th>3</th>\n",
              "      <td>3</td>\n",
              "      <td>13418779</td>\n",
              "      <td>6.620073</td>\n",
              "      <td>House</td>\n",
              "      <td>Entire home/apt</td>\n",
              "      <td>{TV,\"Cable TV\",Internet,\"Wireless Internet\",Ki...</td>\n",
              "      <td>4</td>\n",
              "      <td>1.0</td>\n",
              "      <td>Real Bed</td>\n",
              "      <td>flexible</td>\n",
              "      <td>True</td>\n",
              "      <td>SF</td>\n",
              "      <td>f</td>\n",
              "      <td>2.0</td>\n",
              "      <td>2.0</td>\n",
              "    </tr>\n",
              "    <tr>\n",
              "      <th>4</th>\n",
              "      <td>4</td>\n",
              "      <td>3808709</td>\n",
              "      <td>4.744932</td>\n",
              "      <td>Apartment</td>\n",
              "      <td>Entire home/apt</td>\n",
              "      <td>{TV,Internet,\"Wireless Internet\",\"Air conditio...</td>\n",
              "      <td>2</td>\n",
              "      <td>1.0</td>\n",
              "      <td>Real Bed</td>\n",
              "      <td>moderate</td>\n",
              "      <td>True</td>\n",
              "      <td>DC</td>\n",
              "      <td>t</td>\n",
              "      <td>0.0</td>\n",
              "      <td>1.0</td>\n",
              "    </tr>\n",
              "  </tbody>\n",
              "</table>\n",
              "</div>"
            ],
            "text/plain": [
              "   Unnamed: 0        id  log_price  ... instant_bookable bedrooms beds\n",
              "0           0   6901257   5.010635  ...                f      1.0  1.0\n",
              "1           1   6304928   5.129899  ...                t      3.0  3.0\n",
              "2           2   7919400   4.976734  ...                t      1.0  3.0\n",
              "3           3  13418779   6.620073  ...                f      2.0  2.0\n",
              "4           4   3808709   4.744932  ...                t      0.0  1.0\n",
              "\n",
              "[5 rows x 15 columns]"
            ]
          },
          "metadata": {
            "tags": []
          },
          "execution_count": 3
        }
      ]
    },
    {
      "cell_type": "markdown",
      "metadata": {
        "id": "34WGkmV_tJmL",
        "colab_type": "text"
      },
      "source": [
        "Preparing data : \n",
        "- Renaming columns\n",
        "- Scoring `amenities` by the number of amenities offered\n",
        "- Replacing and categorizing `property_type`\n",
        "- Filling missing values in `bathrooms`, `bedrooms` and `beds`\n",
        "\n",
        "And converting one-hot categorical values"
      ]
    },
    {
      "cell_type": "code",
      "metadata": {
        "id": "x_1Oi7XmFeSK",
        "colab_type": "code",
        "colab": {}
      },
      "source": [
        "# rename id to airbnb_id, and Unnamed: 0 to row_id\n",
        "df = df.rename(columns={'Unnamed: 0' : 'row_id', 'id' : 'airbnb_id'})\n",
        "\n",
        "df['amenities'] = df['amenities'].apply(lambda x: x.replace('{', '').replace('}', '').replace(\"'\", '').replace('\"', '').replace(' ', '_'))\n",
        "df['amenities'] = df['amenities'].str.split(',').str.len()\n",
        "\n",
        "\n",
        "# Replace properties into houses or apartments\n",
        "df.property_type.replace({\n",
        "    'Townhouse': 'House',\n",
        "    'Serviced apartment': 'Apartment',\n",
        "    'Loft': 'Apartment',\n",
        "    'Bungalow': 'House',\n",
        "    'Cottage': 'House',\n",
        "    'Villa': 'House',\n",
        "    'Tiny house': 'House',\n",
        "    'Earth house': 'House',\n",
        "    'Chalet': 'House'  \n",
        "    })\n",
        "\n",
        "# Replace other properties with 'other'\n",
        "df.loc[~df.property_type.isin(['House', 'Apartment']), 'property_type'] = 'Other'\n",
        "\n",
        "#Fill Missing value \n",
        "df['bathrooms'].fillna(df['bathrooms'].mean(), inplace=True)\n",
        "df['beds'].fillna(df['beds'].mean(), inplace=True)\n",
        "df['bedrooms'].fillna(df['bedrooms'].mean(), inplace=True)\n",
        "\n",
        "#convert categorical column into dummy \n",
        "df['instant_bookable'] = df['instant_bookable'].apply(lambda x: {\"t\":1, \"f\":0}.get(x,x))\n",
        "df['cleaning_fee']= df['cleaning_fee'].replace({True: 1, False: 0})\n",
        "\n",
        "df = pd.concat([df, pd.get_dummies(df['property_type'], prefix='property_type')], axis=1)\n",
        "df = pd.concat([df, pd.get_dummies(df['cancellation_policy'], prefix='cancellation_policy')], axis=1)\n",
        "df = pd.concat([df, pd.get_dummies(df['city'], prefix=\"city\")], axis=1)\n",
        "df = pd.concat([df, pd.get_dummies(df['room_type'], prefix=\"room_type\")], axis=1)"
      ],
      "execution_count": 0,
      "outputs": []
    },
    {
      "cell_type": "code",
      "metadata": {
        "id": "mrkl8FfRd08u",
        "colab_type": "code",
        "outputId": "6547e3df-45c1-4886-f2f1-83350a8ec8c0",
        "colab": {
          "base_uri": "https://localhost:8080/",
          "height": 733
        }
      },
      "source": [
        "df.info()"
      ],
      "execution_count": 0,
      "outputs": [
        {
          "output_type": "stream",
          "text": [
            "<class 'pandas.core.frame.DataFrame'>\n",
            "RangeIndex: 74111 entries, 0 to 74110\n",
            "Data columns (total 32 columns):\n",
            " #   Column                               Non-Null Count  Dtype  \n",
            "---  ------                               --------------  -----  \n",
            " 0   row_id                               74111 non-null  int64  \n",
            " 1   airbnb_id                            74111 non-null  int64  \n",
            " 2   log_price                            74111 non-null  float64\n",
            " 3   property_type                        74111 non-null  object \n",
            " 4   room_type                            74111 non-null  object \n",
            " 5   amenities                            74111 non-null  int64  \n",
            " 6   accommodates                         74111 non-null  int64  \n",
            " 7   bathrooms                            74111 non-null  float64\n",
            " 8   bed_type                             74111 non-null  object \n",
            " 9   cancellation_policy                  74111 non-null  object \n",
            " 10  cleaning_fee                         74111 non-null  int64  \n",
            " 11  city                                 74111 non-null  object \n",
            " 12  instant_bookable                     74111 non-null  int64  \n",
            " 13  bedrooms                             74111 non-null  float64\n",
            " 14  beds                                 74111 non-null  float64\n",
            " 15  property_type_Apartment              74111 non-null  uint8  \n",
            " 16  property_type_House                  74111 non-null  uint8  \n",
            " 17  property_type_Other                  74111 non-null  uint8  \n",
            " 18  cancellation_policy_flexible         74111 non-null  uint8  \n",
            " 19  cancellation_policy_moderate         74111 non-null  uint8  \n",
            " 20  cancellation_policy_strict           74111 non-null  uint8  \n",
            " 21  cancellation_policy_super_strict_30  74111 non-null  uint8  \n",
            " 22  cancellation_policy_super_strict_60  74111 non-null  uint8  \n",
            " 23  city_Boston                          74111 non-null  uint8  \n",
            " 24  city_Chicago                         74111 non-null  uint8  \n",
            " 25  city_DC                              74111 non-null  uint8  \n",
            " 26  city_LA                              74111 non-null  uint8  \n",
            " 27  city_NYC                             74111 non-null  uint8  \n",
            " 28  city_SF                              74111 non-null  uint8  \n",
            " 29  room_type_Entire home/apt            74111 non-null  uint8  \n",
            " 30  room_type_Private room               74111 non-null  uint8  \n",
            " 31  room_type_Shared room                74111 non-null  uint8  \n",
            "dtypes: float64(4), int64(6), object(5), uint8(17)\n",
            "memory usage: 9.7+ MB\n"
          ],
          "name": "stdout"
        }
      ]
    },
    {
      "cell_type": "markdown",
      "metadata": {
        "id": "tVjRFPluczi_",
        "colab_type": "text"
      },
      "source": [
        "Data prep is done. Now we can prepare the data for the model.\n",
        "Data is shuffled and split  into training (70%) and test (30%) set."
      ]
    },
    {
      "cell_type": "code",
      "metadata": {
        "id": "5rNCKJy_c3IE",
        "colab_type": "code",
        "outputId": "f279476b-d37e-4d86-b07d-1f32be66c7a1",
        "colab": {
          "base_uri": "https://localhost:8080/",
          "height": 72
        }
      },
      "source": [
        "#shuffling data\n",
        "shuffled_df = df.reindex(np.random.permutation(df.index))\n",
        "\n",
        "import math\n",
        "training_split_line = math.floor(shuffled_df['row_id'].count() * 0.7)\n",
        "\n",
        "#Split training (70%) and testing (30%)\n",
        "training_df = shuffled_df.iloc[:training_split_line, :]\n",
        "test_df = shuffled_df.iloc[training_split_line: , :]\n",
        "\n",
        "print(\"Number of rows : \")\n",
        "print(\"training_df : \" + str(training_df['row_id'].count()))\n",
        "print(\"testing_df : \" + str(test_df['row_id'].count()))"
      ],
      "execution_count": 0,
      "outputs": [
        {
          "output_type": "stream",
          "text": [
            "Number of rows : \n",
            "training_df : 51877\n",
            "testing_df : 22234\n"
          ],
          "name": "stdout"
        }
      ]
    },
    {
      "cell_type": "markdown",
      "metadata": {
        "id": "AXJfXcU8t7jr",
        "colab_type": "text"
      },
      "source": [
        "Once the data is split, is it prepped for training in Tensorflow. Features are chosen accordingly,"
      ]
    },
    {
      "cell_type": "code",
      "metadata": {
        "colab_type": "code",
        "id": "h6mxvNHJyj1_",
        "outputId": "b90ed6aa-c468-4f2f-d995-4623bd69c5dc",
        "colab": {
          "base_uri": "https://localhost:8080/",
          "height": 110
        }
      },
      "source": [
        "# import tensorflow as tf\n",
        "%tensorflow_version 1.x\n",
        "import tensorflow.compat.v1 as tf\n",
        "tf.disable_v2_behavior()\n",
        "\n",
        "# Choose features to train\n",
        "\n",
        "features = ['amenities',\n",
        "            'accommodates',\n",
        "            'bathrooms',\n",
        "            'cleaning_fee',\n",
        "            'instant_bookable',\n",
        "            'bedrooms',\n",
        "            'beds',\n",
        "            'property_type_Apartment',\n",
        "            'property_type_House',\n",
        "            'property_type_Other',\n",
        "            'cancellation_policy_flexible',\n",
        "            'cancellation_policy_moderate',\n",
        "            'cancellation_policy_strict',\n",
        "            'cancellation_policy_super_strict_30',\n",
        "            'cancellation_policy_super_strict_60',\n",
        "            'city_Boston',\n",
        "            'city_Chicago',\n",
        "            'city_DC',\n",
        "            'city_LA',\n",
        "            'city_NYC',\n",
        "            'city_SF',\n",
        "            'room_type_Entire home/apt',\n",
        "            'room_type_Private room',\n",
        "            'room_type_Shared room']\n",
        "\n",
        "# Load the entire data into a matrix\n",
        "x_train = np.matrix(training_df.loc[:, features]).transpose()\n",
        "\n",
        "# Load entire label intro matrix\n",
        "y_train = np.matrix(training_df['log_price'])\n",
        "\n",
        "# And make a convenient variable to remember the number of input columns \n",
        "n = len(features)"
      ],
      "execution_count": 0,
      "outputs": [
        {
          "output_type": "stream",
          "text": [
            "TensorFlow 1.x selected.\n",
            "WARNING:tensorflow:From /tensorflow-1.15.2/python3.6/tensorflow_core/python/compat/v2_compat.py:68: disable_resource_variables (from tensorflow.python.ops.variable_scope) is deprecated and will be removed in a future version.\n",
            "Instructions for updating:\n",
            "non-resource variables are not supported in the long term\n"
          ],
          "name": "stdout"
        }
      ]
    },
    {
      "cell_type": "markdown",
      "metadata": {
        "id": "UQ3XUBl0Ixb_",
        "colab_type": "text"
      },
      "source": [
        "Regression is modelled as y = Ax + b. A and b are tensorflow variables that can change"
      ]
    },
    {
      "cell_type": "code",
      "metadata": {
        "id": "qOlEXaViIA9b",
        "colab_type": "code",
        "colab": {}
      },
      "source": [
        "# Define data placeholders\n",
        "x = tf.placeholder(tf.float32, shape=(n, None))\n",
        "y = tf.placeholder(tf.float32, shape=(1, None))\n",
        "\n",
        "# Define trainable variables\n",
        "# with tf.variable_scope(reuse=tf.AUTO_REUSE):\n",
        "A = tf.get_variable(\"A\", shape=(1, n))\n",
        "b = tf.get_variable(\"b\", shape=())"
      ],
      "execution_count": 0,
      "outputs": []
    },
    {
      "cell_type": "markdown",
      "metadata": {
        "id": "G46fbt66uTzj",
        "colab_type": "text"
      },
      "source": [
        "Model is trained using gradient descent using the chosen hyperparameters. Loss function is calculated with MSE."
      ]
    },
    {
      "cell_type": "code",
      "metadata": {
        "id": "YQW6s4eoJDJr",
        "colab_type": "code",
        "outputId": "088e80d2-970d-461f-f3e2-672a79469c89",
        "colab": {
          "base_uri": "https://localhost:8080/",
          "height": 283
        }
      },
      "source": [
        "# Define model output\n",
        "y_predicted = tf.matmul(A, x) + b\n",
        "\n",
        "# Define the loss function\n",
        "loss = tf.reduce_mean(tf.square(y_predicted - y))\n",
        "\n",
        "learning_rate = 0.001\n",
        "training_epochs = 5000\n",
        "loss_history = np.empty(shape=[1],dtype=float)\n",
        "\n",
        "# Define optimizer object\n",
        "training_step = tf.train.GradientDescentOptimizer(learning_rate).minimize(loss)\n",
        "\n",
        "# Create a session and initialize variables\n",
        "session = tf.Session()\n",
        "session.run(tf.global_variables_initializer())\n",
        "\n",
        "# Main optimization loop\n",
        "for epoch in range(training_epochs):\n",
        "    _, current_loss, current_A, current_b = session.run([training_step, loss, A, b], feed_dict={\n",
        "        x: x_train,\n",
        "        y: y_train\n",
        "    })\n",
        "    loss_history = np.append(loss_history,session.run(loss,feed_dict={x: x_train, y: y_train}))\n",
        "\n",
        "# plot the loss\n",
        "plt.plot(range(len(loss_history)),loss_history)\n",
        "plt.axis([0,training_epochs,0,np.max(loss_history)])\n",
        "plt.show()\n",
        "\n",
        "print(\"Model loss : \" + str(loss_history[-1]))"
      ],
      "execution_count": 0,
      "outputs": [
        {
          "output_type": "display_data",
          "data": {
            "image/png": "[encoded data removed]",
            "text/plain": [
              "<Figure size 432x288 with 1 Axes>"
            ]
          },
          "metadata": {
            "tags": []
          }
        },
        {
          "output_type": "stream",
          "text": [
            "Model loss : 0.2850942313671112\n"
          ],
          "name": "stdout"
        }
      ]
    },
    {
      "cell_type": "markdown",
      "metadata": {
        "id": "Sz1eIIROvQan",
        "colab_type": "text"
      },
      "source": [
        "Once we have trained the model, we can test it on the test set"
      ]
    },
    {
      "cell_type": "code",
      "metadata": {
        "id": "slH-fLQ6VWvK",
        "colab_type": "code",
        "outputId": "fff631d8-8aa9-48de-804a-5b3d92d46471",
        "colab": {
          "base_uri": "https://localhost:8080/",
          "height": 297
        }
      },
      "source": [
        "# Prepare test data\n",
        "x_test = np.matrix(test_df.loc[:, features]).transpose()\n",
        "\n",
        "# Load entire label intro matrix\n",
        "y_test = np.matrix(test_df['log_price'])\n",
        "\n",
        "# Make some predictions on test dataset and calculate mean square error\n",
        "prediction_y_test = session.run(y_predicted, feed_dict={x: x_test})\n",
        "mse = tf.reduce_mean(tf.square(prediction_y_test - y_test))\n",
        "print(\"Test MSE: %.4f\" % session.run(mse))\n",
        "\n",
        "y_test = np.ravel(y_test.sum(axis=0))\n",
        "prediction_y_test = prediction_y_test[0]\n",
        "\n",
        "fig, ax = plt.subplots()\n",
        "ax.scatter(y_test, prediction_y_test)\n",
        "ax.plot([y_test.min(), y_test.max()], [y_test.min(), y_test.max()], 'k--', lw=3)\n",
        "ax.set_xlabel('Measured')\n",
        "ax.set_ylabel('Predicted')\n",
        "plt.show()"
      ],
      "execution_count": 0,
      "outputs": [
        {
          "output_type": "stream",
          "text": [
            "Test MSE: 0.2811\n"
          ],
          "name": "stdout"
        },
        {
          "output_type": "display_data",
          "data": {
            "image/png": "[encoded data removed]",
            "text/plain": [
              "<Figure size 432x288 with 1 Axes>"
            ]
          },
          "metadata": {
            "tags": []
          }
        }
      ]
    },
    {
      "cell_type": "markdown",
      "metadata": {
        "id": "v3vTlNvVveGr",
        "colab_type": "text"
      },
      "source": [
        "The test MSE is quite close to the model's MSE. Therefore, the model performs quite well at the test."
      ]
    },
    {
      "cell_type": "markdown",
      "metadata": {
        "id": "_fonlvo7vrhV",
        "colab_type": "text"
      },
      "source": [
        "Now let's see how much difference is made by the model as it predicts the price."
      ]
    },
    {
      "cell_type": "code",
      "metadata": {
        "id": "kfTF6yvRGyD8",
        "colab_type": "code",
        "outputId": "24c3cc9c-ae02-4112-d974-74b0aedb5a8d",
        "colab": {
          "base_uri": "https://localhost:8080/",
          "height": 206
        }
      },
      "source": [
        "# Take 100 random examples from the test set\n",
        "sample_set = test_df.sample(100)\n",
        "samples = sample_set.loc[:, features].transpose()\n",
        "\n",
        "# Make some predictions on test dataset and calculate mean square error\n",
        "sample_test = session.run(y_predicted, feed_dict={x: samples})\n",
        "\n",
        "# Compile predicted data and real price\n",
        "compare = pd.DataFrame({'predicted' : np.exp(sample_test[0]), 'real_price' : np.exp(sample_set['log_price'].values)})\n",
        "compare['difference'] = np.abs(compare['predicted'] - compare['real_price'])\n",
        "compare['percent_difference'] = compare['difference'] / compare['real_price'] * 100\n",
        "\n",
        "compare.head()"
      ],
      "execution_count": 0,
      "outputs": [
        {
          "output_type": "execute_result",
          "data": {
            "text/html": [
              "<div>\n",
              "<style scoped>\n",
              "    .dataframe tbody tr th:only-of-type {\n",
              "        vertical-align: middle;\n",
              "    }\n",
              "\n",
              "    .dataframe tbody tr th {\n",
              "        vertical-align: top;\n",
              "    }\n",
              "\n",
              "    .dataframe thead th {\n",
              "        text-align: right;\n",
              "    }\n",
              "</style>\n",
              "<table border=\"1\" class=\"dataframe\">\n",
              "  <thead>\n",
              "    <tr style=\"text-align: right;\">\n",
              "      <th></th>\n",
              "      <th>predicted</th>\n",
              "      <th>real_price</th>\n",
              "      <th>difference</th>\n",
              "      <th>percent_difference</th>\n",
              "    </tr>\n",
              "  </thead>\n",
              "  <tbody>\n",
              "    <tr>\n",
              "      <th>0</th>\n",
              "      <td>192.087280</td>\n",
              "      <td>169.0</td>\n",
              "      <td>23.087280</td>\n",
              "      <td>13.661113</td>\n",
              "    </tr>\n",
              "    <tr>\n",
              "      <th>1</th>\n",
              "      <td>316.571564</td>\n",
              "      <td>150.0</td>\n",
              "      <td>166.571564</td>\n",
              "      <td>111.047709</td>\n",
              "    </tr>\n",
              "    <tr>\n",
              "      <th>2</th>\n",
              "      <td>139.341507</td>\n",
              "      <td>38.0</td>\n",
              "      <td>101.341507</td>\n",
              "      <td>266.688176</td>\n",
              "    </tr>\n",
              "    <tr>\n",
              "      <th>3</th>\n",
              "      <td>203.348816</td>\n",
              "      <td>104.0</td>\n",
              "      <td>99.348816</td>\n",
              "      <td>95.527708</td>\n",
              "    </tr>\n",
              "    <tr>\n",
              "      <th>4</th>\n",
              "      <td>54.052170</td>\n",
              "      <td>30.0</td>\n",
              "      <td>24.052170</td>\n",
              "      <td>80.173899</td>\n",
              "    </tr>\n",
              "  </tbody>\n",
              "</table>\n",
              "</div>"
            ],
            "text/plain": [
              "    predicted  real_price  difference  percent_difference\n",
              "0  192.087280       169.0   23.087280           13.661113\n",
              "1  316.571564       150.0  166.571564          111.047709\n",
              "2  139.341507        38.0  101.341507          266.688176\n",
              "3  203.348816       104.0   99.348816           95.527708\n",
              "4   54.052170        30.0   24.052170           80.173899"
            ]
          },
          "metadata": {
            "tags": []
          },
          "execution_count": 11
        }
      ]
    },
    {
      "cell_type": "code",
      "metadata": {
        "id": "H0Ax0dluRKSG",
        "colab_type": "code",
        "outputId": "786f6e5b-5a2f-4e91-9152-08b18dee7502",
        "colab": {
          "base_uri": "https://localhost:8080/",
          "height": 35
        }
      },
      "source": [
        "print(f\"On average, the predicted price is \" + str(round(compare['percent_difference'].mean(), 2)) + \"% more or less than the real price\")"
      ],
      "execution_count": 0,
      "outputs": [
        {
          "output_type": "stream",
          "text": [
            "On average, the predicted price is 46.04% more or less than the real price\n"
          ],
          "name": "stdout"
        }
      ]
    }
  ]
}